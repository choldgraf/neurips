{
 "cells": [
  {
   "cell_type": "code",
   "execution_count": 1,
   "metadata": {},
   "outputs": [
    {
     "name": "stdout",
     "output_type": "stream",
     "text": [
      "--2018-12-04 13:13:54--  https://devblogs.nvidia.com/wp-content/uploads/2017/10/7388996.png\n",
      "Resolving devblogs.nvidia.com (devblogs.nvidia.com)... 23.185.0.1, 2620:12a:8001::1, 2620:12a:8000::1\n",
      "Connecting to devblogs.nvidia.com (devblogs.nvidia.com)|23.185.0.1|:443... connected.\n",
      "HTTP request sent, awaiting response... 200 OK\n",
      "Length: 10727 (10K) [image/png]\n",
      "Saving to: ‘7388996.png’\n",
      "\n",
      "7388996.png         100%[===================>]  10.48K  --.-KB/s    in 0s      \n",
      "\n",
      "2018-12-04 13:13:54 (33.3 MB/s) - ‘7388996.png’ saved [10727/10727]\n",
      "\n"
     ]
    }
   ],
   "source": [
    "!wget https://devblogs.nvidia.com/wp-content/uploads/2017/10/7388996.png\n"
   ]
  },
  {
   "cell_type": "code",
   "execution_count": 2,
   "metadata": {},
   "outputs": [],
   "source": [
    "import numpy as np"
   ]
  },
  {
   "cell_type": "code",
   "execution_count": null,
   "metadata": {},
   "outputs": [],
   "source": []
  }
 ],
 "metadata": {
  "kernelspec": {
   "display_name": "Python 3",
   "language": "python",
   "name": "python3"
  },
  "language_info": {
   "codemirror_mode": {
    "name": "ipython",
    "version": 3
   },
   "file_extension": ".py",
   "mimetype": "text/x-python",
   "name": "python",
   "nbconvert_exporter": "python",
   "pygments_lexer": "ipython3",
   "version": "3.6.5"
  }
 },
 "nbformat": 4,
 "nbformat_minor": 2
}
